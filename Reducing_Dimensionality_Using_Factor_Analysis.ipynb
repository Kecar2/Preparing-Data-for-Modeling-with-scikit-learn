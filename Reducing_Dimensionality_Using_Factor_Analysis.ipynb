{
 "cells": [
  {
   "cell_type": "markdown",
   "id": "86c96646",
   "metadata": {},
   "source": [
    "# Reducing Dimensionality Using Factor Analysis"
   ]
  },
  {
   "cell_type": "code",
   "execution_count": 24,
   "id": "2176a68f",
   "metadata": {},
   "outputs": [],
   "source": [
    "import pandas as pd\n",
    "import pylab\n",
    "import matplotlib.pyplot as plt\n",
    "\n",
    "from sklearn.model_selection import train_test_split\n",
    "from sklearn.linear_model import LogisticRegression\n",
    "\n",
    "from sklearn.decomposition import FactorAnalysis\n",
    "\n",
    "from sklearn.metrics import accuracy_score\n",
    "from sklearn.metrics import precision_score\n",
    "from sklearn.metrics import recall_score"
   ]
  },
  {
   "cell_type": "code",
   "execution_count": 25,
   "id": "df1e113c",
   "metadata": {},
   "outputs": [],
   "source": [
    "df = pd.read_csv('datasets/diabetes_processed.csv')"
   ]
  },
  {
   "cell_type": "code",
   "execution_count": 26,
   "id": "797a173c",
   "metadata": {},
   "outputs": [
    {
     "data": {
      "text/html": [
       "<div>\n",
       "<style scoped>\n",
       "    .dataframe tbody tr th:only-of-type {\n",
       "        vertical-align: middle;\n",
       "    }\n",
       "\n",
       "    .dataframe tbody tr th {\n",
       "        vertical-align: top;\n",
       "    }\n",
       "\n",
       "    .dataframe thead th {\n",
       "        text-align: right;\n",
       "    }\n",
       "</style>\n",
       "<table border=\"1\" class=\"dataframe\">\n",
       "  <thead>\n",
       "    <tr style=\"text-align: right;\">\n",
       "      <th></th>\n",
       "      <th>Pregnancies</th>\n",
       "      <th>Glucose</th>\n",
       "      <th>BloodPressure</th>\n",
       "      <th>SkinThickness</th>\n",
       "      <th>Insulin</th>\n",
       "      <th>BMI</th>\n",
       "      <th>DiabetesPedigreeFunction</th>\n",
       "      <th>Age</th>\n",
       "      <th>Outcome</th>\n",
       "    </tr>\n",
       "  </thead>\n",
       "  <tbody>\n",
       "    <tr>\n",
       "      <th>0</th>\n",
       "      <td>0.639947</td>\n",
       "      <td>0.848324</td>\n",
       "      <td>0.149641</td>\n",
       "      <td>0.907270</td>\n",
       "      <td>-0.692891</td>\n",
       "      <td>0.204013</td>\n",
       "      <td>0.468492</td>\n",
       "      <td>1.425995</td>\n",
       "      <td>1</td>\n",
       "    </tr>\n",
       "    <tr>\n",
       "      <th>1</th>\n",
       "      <td>-0.844885</td>\n",
       "      <td>-1.123396</td>\n",
       "      <td>-0.160546</td>\n",
       "      <td>0.530902</td>\n",
       "      <td>-0.692891</td>\n",
       "      <td>-0.684422</td>\n",
       "      <td>-0.365061</td>\n",
       "      <td>-0.190672</td>\n",
       "      <td>0</td>\n",
       "    </tr>\n",
       "    <tr>\n",
       "      <th>2</th>\n",
       "      <td>1.233880</td>\n",
       "      <td>1.943724</td>\n",
       "      <td>-0.263941</td>\n",
       "      <td>-1.288212</td>\n",
       "      <td>-0.692891</td>\n",
       "      <td>-1.103255</td>\n",
       "      <td>0.604397</td>\n",
       "      <td>-0.105584</td>\n",
       "      <td>1</td>\n",
       "    </tr>\n",
       "    <tr>\n",
       "      <th>3</th>\n",
       "      <td>-0.844885</td>\n",
       "      <td>-0.998208</td>\n",
       "      <td>-0.160546</td>\n",
       "      <td>0.154533</td>\n",
       "      <td>0.123302</td>\n",
       "      <td>-0.494043</td>\n",
       "      <td>-0.920763</td>\n",
       "      <td>-1.041549</td>\n",
       "      <td>0</td>\n",
       "    </tr>\n",
       "    <tr>\n",
       "      <th>4</th>\n",
       "      <td>-1.141852</td>\n",
       "      <td>0.504055</td>\n",
       "      <td>-1.504687</td>\n",
       "      <td>0.907270</td>\n",
       "      <td>0.765836</td>\n",
       "      <td>1.409746</td>\n",
       "      <td>5.484909</td>\n",
       "      <td>-0.020496</td>\n",
       "      <td>1</td>\n",
       "    </tr>\n",
       "  </tbody>\n",
       "</table>\n",
       "</div>"
      ],
      "text/plain": [
       "   Pregnancies   Glucose  BloodPressure  SkinThickness   Insulin       BMI  \\\n",
       "0     0.639947  0.848324       0.149641       0.907270 -0.692891  0.204013   \n",
       "1    -0.844885 -1.123396      -0.160546       0.530902 -0.692891 -0.684422   \n",
       "2     1.233880  1.943724      -0.263941      -1.288212 -0.692891 -1.103255   \n",
       "3    -0.844885 -0.998208      -0.160546       0.154533  0.123302 -0.494043   \n",
       "4    -1.141852  0.504055      -1.504687       0.907270  0.765836  1.409746   \n",
       "\n",
       "   DiabetesPedigreeFunction       Age  Outcome  \n",
       "0                  0.468492  1.425995        1  \n",
       "1                 -0.365061 -0.190672        0  \n",
       "2                  0.604397 -0.105584        1  \n",
       "3                 -0.920763 -1.041549        0  \n",
       "4                  5.484909 -0.020496        1  "
      ]
     },
     "execution_count": 26,
     "metadata": {},
     "output_type": "execute_result"
    }
   ],
   "source": [
    "df.head()"
   ]
  },
  {
   "cell_type": "code",
   "execution_count": 27,
   "id": "d0ec2d69",
   "metadata": {},
   "outputs": [
    {
     "data": {
      "text/plain": [
       "['Pregnancies',\n",
       " 'Glucose',\n",
       " 'BloodPressure',\n",
       " 'SkinThickness',\n",
       " 'Insulin',\n",
       " 'BMI',\n",
       " 'DiabetesPedigreeFunction',\n",
       " 'Age']"
      ]
     },
     "execution_count": 27,
     "metadata": {},
     "output_type": "execute_result"
    }
   ],
   "source": [
    "FEATURES = list(df.columns[:-1])\n",
    "\n",
    "FEATURES"
   ]
  },
  {
   "cell_type": "code",
   "execution_count": 28,
   "id": "cb34ae39",
   "metadata": {},
   "outputs": [],
   "source": [
    "LABEL = 'Outcome'"
   ]
  },
  {
   "cell_type": "code",
   "execution_count": 33,
   "id": "a1778832",
   "metadata": {},
   "outputs": [],
   "source": [
    "def build_model(n_components):\n",
    "    \n",
    "    X = df[FEATURES]\n",
    "    Y = df[LABEL]\n",
    "    \n",
    "    fa_obj = FactorAnalysis(n_components = n_components,\n",
    "                           random_state = 10,\n",
    "                           max_iter=10000)\n",
    "    \n",
    "    x_new = fa_obj.fit_transform(X, Y)\n",
    "    X = pd.DataFrame(x_new)\n",
    "    \n",
    "    x_train, x_test, y_train, y_test = train_test_split(X, Y, test_size=0.2)\n",
    "    \n",
    "    model = LogisticRegression(solver = 'liblinear',\n",
    "                              max_iter=1000)\n",
    "    \n",
    "    model.fit(x_train, y_train)\n",
    "    \n",
    "    y_pred = model.predict(x_test)\n",
    "    \n",
    "    pred_results = pd.DataFrame({'y_test ' : y_test,\n",
    "                                'y_pred ' : y_pred})\n",
    "    \n",
    "    acc = accuracy_score(y_test, y_pred)\n",
    "    prec = precision_score(y_test, y_pred)\n",
    "    recall = recall_score(y_test, y_pred)\n",
    "    \n",
    "    return {'fact_a_obj' : fa_obj,\n",
    "           'transform_x' : X,\n",
    "           'accuracy' : acc,\n",
    "           'precision' : prec,\n",
    "           'recall' : recall}"
   ]
  },
  {
   "cell_type": "code",
   "execution_count": 34,
   "id": "3ad71d44",
   "metadata": {},
   "outputs": [],
   "source": [
    "def compare_results(result_dict):\n",
    "    \n",
    "    for key in result_dict:\n",
    "        print('Test: ', key)\n",
    "        \n",
    "        print()\n",
    "        print('accuracy_score : ', result_dict[key]['accuracy'])\n",
    "        print('precision_score : ', result_dict[key]['precision'])\n",
    "        print('recall_score : ', result_dict[key]['recall'])\n",
    "        \n",
    "        print()"
   ]
  },
  {
   "cell_type": "code",
   "execution_count": 35,
   "id": "7e6852b9",
   "metadata": {},
   "outputs": [],
   "source": [
    "def visualize_results(result_dict):\n",
    "    \n",
    "    n_components = list(range(0, 8))\n",
    "    acc = [result_dict[key]['accuracy'] for key in result_dict]\n",
    "    precision = [result_dict[key]['precision'] for key in result_dict]\n",
    "    recall = [result_dict[key]['recall'] for key in result_dict]\n",
    "    \n",
    "    plt.figure(figsize = (12, 10))\n",
    "    plt.plot(n_components, acc, label='Accuracy')\n",
    "    plt.plot(n_components, precision, label='Precision')\n",
    "    plt.plot(n_components, recall, label='Recall')\n",
    "    \n",
    "    plt.xlabel('n components')\n",
    "    plt.ylabel('score');\n",
    "    \n",
    "    plt.legend()\n",
    "    \n",
    "    plt.show()"
   ]
  },
  {
   "cell_type": "code",
   "execution_count": 36,
   "id": "169a58d1",
   "metadata": {},
   "outputs": [],
   "source": [
    "result_dict = {}\n",
    "\n",
    "for i in range (1, 9):\n",
    "    result_dict['n_components - ' + str(i)] = build_model(i)"
   ]
  },
  {
   "cell_type": "code",
   "execution_count": 37,
   "id": "1cee1f27",
   "metadata": {},
   "outputs": [
    {
     "name": "stdout",
     "output_type": "stream",
     "text": [
      "Test:  n_components - 1\n",
      "\n",
      "accuracy_score :  0.6948051948051948\n",
      "precision_score :  0.6071428571428571\n",
      "recall_score :  0.32075471698113206\n",
      "\n",
      "Test:  n_components - 2\n",
      "\n",
      "accuracy_score :  0.7012987012987013\n",
      "precision_score :  0.5952380952380952\n",
      "recall_score :  0.46296296296296297\n",
      "\n",
      "Test:  n_components - 3\n",
      "\n",
      "accuracy_score :  0.6688311688311688\n",
      "precision_score :  0.6470588235294118\n",
      "recall_score :  0.36065573770491804\n",
      "\n",
      "Test:  n_components - 4\n",
      "\n",
      "accuracy_score :  0.7532467532467533\n",
      "precision_score :  0.675\n",
      "recall_score :  0.5192307692307693\n",
      "\n",
      "Test:  n_components - 5\n",
      "\n",
      "accuracy_score :  0.7987012987012987\n",
      "precision_score :  0.7948717948717948\n",
      "recall_score :  0.5740740740740741\n",
      "\n",
      "Test:  n_components - 6\n",
      "\n",
      "accuracy_score :  0.7467532467532467\n",
      "precision_score :  0.6578947368421053\n",
      "recall_score :  0.49019607843137253\n",
      "\n",
      "Test:  n_components - 7\n",
      "\n",
      "accuracy_score :  0.7727272727272727\n",
      "precision_score :  0.7575757575757576\n",
      "recall_score :  0.4807692307692308\n",
      "\n",
      "Test:  n_components - 8\n",
      "\n",
      "accuracy_score :  0.7077922077922078\n",
      "precision_score :  0.7333333333333333\n",
      "recall_score :  0.3728813559322034\n",
      "\n"
     ]
    }
   ],
   "source": [
    "compare_results(result_dict)"
   ]
  },
  {
   "cell_type": "code",
   "execution_count": 38,
   "id": "30c3af5a",
   "metadata": {},
   "outputs": [
    {
     "data": {
      "image/png": "[encoded data removed]",
      "text/plain": [
       "<Figure size 864x720 with 1 Axes>"
      ]
     },
     "metadata": {
      "needs_background": "light"
     },
     "output_type": "display_data"
    }
   ],
   "source": [
    "visualize_results(result_dict)"
   ]
  },
  {
   "cell_type": "code",
   "execution_count": null,
   "id": "292b6d23",
   "metadata": {},
   "outputs": [],
   "source": []
  }
 ],
 "metadata": {
  "kernelspec": {
   "display_name": "Python 3 (ipykernel)",
   "language": "python",
   "name": "python3"
  },
  "language_info": {
   "codemirror_mode": {
    "name": "ipython",
    "version": 3
   },
   "file_extension": ".py",
   "mimetype": "text/x-python",
   "name": "python",
   "nbconvert_exporter": "python",
   "pygments_lexer": "ipython3",
   "version": "3.9.12"
  }
 },
 "nbformat": 4,
 "nbformat_minor": 5
}
