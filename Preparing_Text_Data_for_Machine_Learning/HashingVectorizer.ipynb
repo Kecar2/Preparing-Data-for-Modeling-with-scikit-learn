{
 "cells": [
  {
   "cell_type": "code",
   "execution_count": 1,
   "id": "4e8828ee",
   "metadata": {},
   "outputs": [],
   "source": [
    "from sklearn.feature_extraction.text import HashingVectorizer\n",
    "\n",
    "text_array = ['The Pessimit Sees Difficulty In Every Opportunity.',\n",
    "             'The Optimist Sees Opportunity In Every Difficulty.',\n",
    "             'Don´t Let Yesterday Take Up Too Much Of Today.',\n",
    "             'You Learn More From Fairule Than From Success.',\n",
    "             'We May Encounter Many Defeats But We Must Not Be Defeated.',\n",
    "             'Life Is Either A Daring Adventure Or Nothing.']"
   ]
  },
  {
   "cell_type": "code",
   "execution_count": 2,
   "id": "e5e05caf",
   "metadata": {},
   "outputs": [
    {
     "data": {
      "text/plain": [
       "(6, 8)"
      ]
     },
     "execution_count": 2,
     "metadata": {},
     "output_type": "execute_result"
    }
   ],
   "source": [
    "vectorizer = HashingVectorizer(n_features=8,\n",
    "                              norm=None)\n",
    "\n",
    "hash_vector = vectorizer.transform(text_array)\n",
    "\n",
    "hash_vector.shape"
   ]
  },
  {
   "cell_type": "code",
   "execution_count": 3,
   "id": "8212c1f7",
   "metadata": {},
   "outputs": [
    {
     "data": {
      "text/plain": [
       "array([[ 0.,  2.,  0., -1.,  0.,  1., -1.,  0.],\n",
       "       [ 0.,  2.,  0., -1., -1.,  1., -1., -1.],\n",
       "       [-1., -1.,  0.,  0.,  2.,  1., -1., -1.],\n",
       "       [ 0.,  0.,  0., -1.,  0., -1.,  0.,  0.],\n",
       "       [ 1.,  1.,  0., -2.,  1.,  1.,  1.,  2.],\n",
       "       [-1.,  0.,  0.,  0.,  1.,  1., -1.,  1.]])"
      ]
     },
     "execution_count": 3,
     "metadata": {},
     "output_type": "execute_result"
    }
   ],
   "source": [
    "hash_vector.toarray()"
   ]
  },
  {
   "cell_type": "code",
   "execution_count": 4,
   "id": "16ee6049",
   "metadata": {},
   "outputs": [
    {
     "data": {
      "text/plain": [
       "array([[0., 2., 0., 1., 2., 1., 1., 0.],\n",
       "       [0., 2., 0., 1., 1., 1., 1., 1.],\n",
       "       [1., 1., 0., 0., 2., 1., 3., 1.],\n",
       "       [0., 0., 2., 1., 4., 1., 0., 0.],\n",
       "       [1., 1., 0., 2., 1., 1., 3., 2.],\n",
       "       [1., 2., 0., 0., 1., 1., 1., 1.]])"
      ]
     },
     "execution_count": 4,
     "metadata": {},
     "output_type": "execute_result"
    }
   ],
   "source": [
    "vectorizer = HashingVectorizer(n_features=8,\n",
    "                              norm=None,\n",
    "                              alternate_sign=False)\n",
    "\n",
    "hash_vector = vectorizer.transform(text_array)\n",
    "\n",
    "hash_vector.toarray()"
   ]
  },
  {
   "cell_type": "code",
   "execution_count": 9,
   "id": "2b65914e",
   "metadata": {},
   "outputs": [
    {
     "data": {
      "text/plain": [
       "(6, 8)"
      ]
     },
     "execution_count": 9,
     "metadata": {},
     "output_type": "execute_result"
    }
   ],
   "source": [
    "vectorizer = HashingVectorizer(n_features=8,\n",
    "                              norm='l1')\n",
    "\n",
    "hash_vector = vectorizer.transform(text_array)\n",
    "\n",
    "hash_vector.shape"
   ]
  },
  {
   "cell_type": "code",
   "execution_count": 10,
   "id": "0261786a",
   "metadata": {},
   "outputs": [
    {
     "data": {
      "text/plain": [
       "array([[ 0.        ,  0.4       ,  0.        , -0.2       ,  0.        ,\n",
       "         0.2       , -0.2       ,  0.        ],\n",
       "       [ 0.        ,  0.28571429,  0.        , -0.14285714, -0.14285714,\n",
       "         0.14285714, -0.14285714, -0.14285714],\n",
       "       [-0.14285714, -0.14285714,  0.        ,  0.        ,  0.28571429,\n",
       "         0.14285714, -0.14285714, -0.14285714],\n",
       "       [ 0.        ,  0.        ,  0.        , -0.5       ,  0.        ,\n",
       "        -0.5       ,  0.        ,  0.        ],\n",
       "       [ 0.11111111,  0.11111111,  0.        , -0.22222222,  0.11111111,\n",
       "         0.11111111,  0.11111111,  0.22222222],\n",
       "       [-0.2       ,  0.        ,  0.        ,  0.        ,  0.2       ,\n",
       "         0.2       , -0.2       ,  0.2       ]])"
      ]
     },
     "execution_count": 10,
     "metadata": {},
     "output_type": "execute_result"
    }
   ],
   "source": [
    "hash_vector.toarray()"
   ]
  },
  {
   "cell_type": "code",
   "execution_count": 11,
   "id": "a3992436",
   "metadata": {},
   "outputs": [
    {
     "data": {
      "text/plain": [
       "(6, 8)"
      ]
     },
     "execution_count": 11,
     "metadata": {},
     "output_type": "execute_result"
    }
   ],
   "source": [
    "vectorizer = HashingVectorizer(n_features=8,\n",
    "                              norm='l2')\n",
    "\n",
    "hash_vector = vectorizer.transform(text_array)\n",
    "\n",
    "hash_vector.shape"
   ]
  },
  {
   "cell_type": "code",
   "execution_count": 12,
   "id": "c62b973a",
   "metadata": {},
   "outputs": [
    {
     "data": {
      "text/plain": [
       "array([[ 0.        ,  0.75592895,  0.        , -0.37796447,  0.        ,\n",
       "         0.37796447, -0.37796447,  0.        ],\n",
       "       [ 0.        ,  0.66666667,  0.        , -0.33333333, -0.33333333,\n",
       "         0.33333333, -0.33333333, -0.33333333],\n",
       "       [-0.33333333, -0.33333333,  0.        ,  0.        ,  0.66666667,\n",
       "         0.33333333, -0.33333333, -0.33333333],\n",
       "       [ 0.        ,  0.        ,  0.        , -0.70710678,  0.        ,\n",
       "        -0.70710678,  0.        ,  0.        ],\n",
       "       [ 0.2773501 ,  0.2773501 ,  0.        , -0.5547002 ,  0.2773501 ,\n",
       "         0.2773501 ,  0.2773501 ,  0.5547002 ],\n",
       "       [-0.4472136 ,  0.        ,  0.        ,  0.        ,  0.4472136 ,\n",
       "         0.4472136 , -0.4472136 ,  0.4472136 ]])"
      ]
     },
     "execution_count": 12,
     "metadata": {},
     "output_type": "execute_result"
    }
   ],
   "source": [
    "hash_vector.toarray()"
   ]
  }
 ],
 "metadata": {
  "kernelspec": {
   "display_name": "Python 3 (ipykernel)",
   "language": "python",
   "name": "python3"
  },
  "language_info": {
   "codemirror_mode": {
    "name": "ipython",
    "version": 3
   },
   "file_extension": ".py",
   "mimetype": "text/x-python",
   "name": "python",
   "nbconvert_exporter": "python",
   "pygments_lexer": "ipython3",
   "version": "3.9.12"
  }
 },
 "nbformat": 4,
 "nbformat_minor": 5
}
