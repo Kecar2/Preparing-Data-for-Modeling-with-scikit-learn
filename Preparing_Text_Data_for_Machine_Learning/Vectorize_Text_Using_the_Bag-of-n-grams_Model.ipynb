{
 "cells": [
  {
   "cell_type": "code",
   "execution_count": 1,
   "id": "0396d23d",
   "metadata": {},
   "outputs": [],
   "source": [
    "import sklearn\n",
    "from sklearn.feature_extraction.text import CountVectorizer"
   ]
  },
  {
   "cell_type": "code",
   "execution_count": 2,
   "id": "e78de01d",
   "metadata": {},
   "outputs": [],
   "source": [
    "train_text = ['The Pessimit Sees Difficulty In Every Opportunity.',\n",
    "             'The Optimist Sees Opportunity In Every Difficulty.',\n",
    "             'Don´t Let Yesterday Take Up Too Much Of Today.',\n",
    "             'You Learn More From Fairule Than From Success.',\n",
    "             'We May Encounter Many Defeats But We Must Not Be Defeated.',\n",
    "             'Life Is Either A Daring Adventure Or Nothing.']\n",
    "\n",
    "count_vectorizer = CountVectorizer()"
   ]
  },
  {
   "cell_type": "code",
   "execution_count": 3,
   "id": "a3731d56",
   "metadata": {},
   "outputs": [
    {
     "data": {
      "text/plain": [
       "CountVectorizer()"
      ]
     },
     "execution_count": 3,
     "metadata": {},
     "output_type": "execute_result"
    }
   ],
   "source": [
    "count_vectorizer.fit(train_text)"
   ]
  },
  {
   "cell_type": "code",
   "execution_count": 4,
   "id": "6b1a2ef7",
   "metadata": {},
   "outputs": [
    {
     "name": "stderr",
     "output_type": "stream",
     "text": [
      "C:\\Users\\kendr\\anaconda3\\lib\\site-packages\\sklearn\\utils\\deprecation.py:87: FutureWarning: Function get_feature_names is deprecated; get_feature_names is deprecated in 1.0 and will be removed in 1.2. Please use get_feature_names_out instead.\n",
      "  warnings.warn(msg, category=FutureWarning)\n"
     ]
    },
    {
     "data": {
      "text/plain": [
       "['adventure',\n",
       " 'be',\n",
       " 'but',\n",
       " 'daring',\n",
       " 'defeated',\n",
       " 'defeats',\n",
       " 'difficulty',\n",
       " 'don',\n",
       " 'either',\n",
       " 'encounter',\n",
       " 'every',\n",
       " 'fairule',\n",
       " 'from',\n",
       " 'in',\n",
       " 'is',\n",
       " 'learn',\n",
       " 'let',\n",
       " 'life',\n",
       " 'many',\n",
       " 'may',\n",
       " 'more',\n",
       " 'much',\n",
       " 'must',\n",
       " 'not',\n",
       " 'nothing',\n",
       " 'of',\n",
       " 'opportunity',\n",
       " 'optimist',\n",
       " 'or',\n",
       " 'pessimit',\n",
       " 'sees',\n",
       " 'success',\n",
       " 'take',\n",
       " 'than',\n",
       " 'the',\n",
       " 'today',\n",
       " 'too',\n",
       " 'up',\n",
       " 'we',\n",
       " 'yesterday',\n",
       " 'you']"
      ]
     },
     "execution_count": 4,
     "metadata": {},
     "output_type": "execute_result"
    }
   ],
   "source": [
    "count_vectorizer.get_feature_names()"
   ]
  },
  {
   "cell_type": "code",
   "execution_count": 5,
   "id": "3f316cf9",
   "metadata": {},
   "outputs": [
    {
     "data": {
      "text/plain": [
       "{'the': 34,\n",
       " 'pessimit': 29,\n",
       " 'sees': 30,\n",
       " 'difficulty': 6,\n",
       " 'in': 13,\n",
       " 'every': 10,\n",
       " 'opportunity': 26,\n",
       " 'optimist': 27,\n",
       " 'don': 7,\n",
       " 'let': 16,\n",
       " 'yesterday': 39,\n",
       " 'take': 32,\n",
       " 'up': 37,\n",
       " 'too': 36,\n",
       " 'much': 21,\n",
       " 'of': 25,\n",
       " 'today': 35,\n",
       " 'you': 40,\n",
       " 'learn': 15,\n",
       " 'more': 20,\n",
       " 'from': 12,\n",
       " 'fairule': 11,\n",
       " 'than': 33,\n",
       " 'success': 31,\n",
       " 'we': 38,\n",
       " 'may': 19,\n",
       " 'encounter': 9,\n",
       " 'many': 18,\n",
       " 'defeats': 5,\n",
       " 'but': 2,\n",
       " 'must': 22,\n",
       " 'not': 23,\n",
       " 'be': 1,\n",
       " 'defeated': 4,\n",
       " 'life': 17,\n",
       " 'is': 14,\n",
       " 'either': 8,\n",
       " 'daring': 3,\n",
       " 'adventure': 0,\n",
       " 'or': 28,\n",
       " 'nothing': 24}"
      ]
     },
     "execution_count": 5,
     "metadata": {},
     "output_type": "execute_result"
    }
   ],
   "source": [
    "count_vectorizer.vocabulary_"
   ]
  },
  {
   "cell_type": "code",
   "execution_count": 6,
   "id": "91d83f3e",
   "metadata": {},
   "outputs": [
    {
     "data": {
      "text/plain": [
       "['The Pessimit Sees Difficulty In Every Opportunity.',\n",
       " 'The Optimist Sees Opportunity In Every Difficulty.',\n",
       " 'Don´t Let Yesterday Take Up Too Much Of Today.',\n",
       " 'You Learn More From Fairule Than From Success.',\n",
       " 'We May Encounter Many Defeats But We Must Not Be Defeated.',\n",
       " 'Life Is Either A Daring Adventure Or Nothing.']"
      ]
     },
     "execution_count": 6,
     "metadata": {},
     "output_type": "execute_result"
    }
   ],
   "source": [
    "train_text"
   ]
  },
  {
   "cell_type": "code",
   "execution_count": 7,
   "id": "b2480fbe",
   "metadata": {},
   "outputs": [],
   "source": [
    "transformed_vector = count_vectorizer.transform(train_text)"
   ]
  },
  {
   "cell_type": "code",
   "execution_count": 8,
   "id": "8e093a5e",
   "metadata": {},
   "outputs": [
    {
     "name": "stdout",
     "output_type": "stream",
     "text": [
      "(6, 41)\n"
     ]
    }
   ],
   "source": [
    "print(transformed_vector.shape)"
   ]
  },
  {
   "cell_type": "code",
   "execution_count": 10,
   "id": "91f54816",
   "metadata": {},
   "outputs": [
    {
     "name": "stdout",
     "output_type": "stream",
     "text": [
      "[[0 0 0 0 0 0 1 0 0 0 1 0 0 1 0 0 0 0 0 0 0 0 0 0 0 0 1 0 0 1 1 0 0 0 1 0\n",
      "  0 0 0 0 0]\n",
      " [0 0 0 0 0 0 1 0 0 0 1 0 0 1 0 0 0 0 0 0 0 0 0 0 0 0 1 1 0 0 1 0 0 0 1 0\n",
      "  0 0 0 0 0]\n",
      " [0 0 0 0 0 0 0 1 0 0 0 0 0 0 0 0 1 0 0 0 0 1 0 0 0 1 0 0 0 0 0 0 1 0 0 1\n",
      "  1 1 0 1 0]\n",
      " [0 0 0 0 0 0 0 0 0 0 0 1 2 0 0 1 0 0 0 0 1 0 0 0 0 0 0 0 0 0 0 1 0 1 0 0\n",
      "  0 0 0 0 1]\n",
      " [0 1 1 0 1 1 0 0 0 1 0 0 0 0 0 0 0 0 1 1 0 0 1 1 0 0 0 0 0 0 0 0 0 0 0 0\n",
      "  0 0 2 0 0]\n",
      " [1 0 0 1 0 0 0 0 1 0 0 0 0 0 1 0 0 1 0 0 0 0 0 0 1 0 0 0 1 0 0 0 0 0 0 0\n",
      "  0 0 0 0 0]]\n"
     ]
    }
   ],
   "source": [
    "print(transformed_vector.toarray())"
   ]
  },
  {
   "cell_type": "code",
   "execution_count": 11,
   "id": "3f667341",
   "metadata": {},
   "outputs": [
    {
     "data": {
      "text/plain": [
       "[array(['difficulty', 'every', 'in', 'opportunity', 'pessimit', 'sees',\n",
       "        'the'], dtype='<U11'),\n",
       " array(['difficulty', 'every', 'in', 'opportunity', 'optimist', 'sees',\n",
       "        'the'], dtype='<U11'),\n",
       " array(['don', 'let', 'much', 'of', 'take', 'today', 'too', 'up',\n",
       "        'yesterday'], dtype='<U11'),\n",
       " array(['fairule', 'from', 'learn', 'more', 'success', 'than', 'you'],\n",
       "       dtype='<U11'),\n",
       " array(['be', 'but', 'defeated', 'defeats', 'encounter', 'many', 'may',\n",
       "        'must', 'not', 'we'], dtype='<U11'),\n",
       " array(['adventure', 'daring', 'either', 'is', 'life', 'nothing', 'or'],\n",
       "       dtype='<U11')]"
      ]
     },
     "execution_count": 11,
     "metadata": {},
     "output_type": "execute_result"
    }
   ],
   "source": [
    "count_vectorizer.inverse_transform(transformed_vector)"
   ]
  },
  {
   "cell_type": "code",
   "execution_count": 12,
   "id": "7a585147",
   "metadata": {},
   "outputs": [
    {
     "data": {
      "text/plain": [
       "array([[0, 0, 0, 0, 0, 0, 0, 0, 0, 0, 0, 0, 0, 0, 1, 0, 0, 0, 0, 0, 0, 0,\n",
       "        0, 0, 0, 0, 0, 0, 0, 0, 0, 0, 0, 0, 0, 0, 0, 0, 0, 0, 0]],\n",
       "      dtype=int64)"
      ]
     },
     "execution_count": 12,
     "metadata": {},
     "output_type": "execute_result"
    }
   ],
   "source": [
    "test_text = ['A room without books is like a body without a soul.']\n",
    "\n",
    "count_vectorizer.transform(test_text).toarray()"
   ]
  },
  {
   "cell_type": "code",
   "execution_count": 14,
   "id": "6c74e8c5",
   "metadata": {},
   "outputs": [
    {
     "data": {
      "text/plain": [
       "CountVectorizer()"
      ]
     },
     "execution_count": 14,
     "metadata": {},
     "output_type": "execute_result"
    }
   ],
   "source": [
    "count_vectorizer.fit(train_text + test_text)"
   ]
  },
  {
   "cell_type": "code",
   "execution_count": 15,
   "id": "d6de0234",
   "metadata": {},
   "outputs": [
    {
     "data": {
      "text/plain": [
       "{'the': 39,\n",
       " 'pessimit': 32,\n",
       " 'sees': 34,\n",
       " 'difficulty': 8,\n",
       " 'in': 15,\n",
       " 'every': 12,\n",
       " 'opportunity': 29,\n",
       " 'optimist': 30,\n",
       " 'don': 9,\n",
       " 'let': 18,\n",
       " 'yesterday': 45,\n",
       " 'take': 37,\n",
       " 'up': 42,\n",
       " 'too': 41,\n",
       " 'much': 24,\n",
       " 'of': 28,\n",
       " 'today': 40,\n",
       " 'you': 46,\n",
       " 'learn': 17,\n",
       " 'more': 23,\n",
       " 'from': 14,\n",
       " 'fairule': 13,\n",
       " 'than': 38,\n",
       " 'success': 36,\n",
       " 'we': 43,\n",
       " 'may': 22,\n",
       " 'encounter': 11,\n",
       " 'many': 21,\n",
       " 'defeats': 7,\n",
       " 'but': 4,\n",
       " 'must': 25,\n",
       " 'not': 26,\n",
       " 'be': 1,\n",
       " 'defeated': 6,\n",
       " 'life': 19,\n",
       " 'is': 16,\n",
       " 'either': 10,\n",
       " 'daring': 5,\n",
       " 'adventure': 0,\n",
       " 'or': 31,\n",
       " 'nothing': 27,\n",
       " 'room': 33,\n",
       " 'without': 44,\n",
       " 'books': 3,\n",
       " 'like': 20,\n",
       " 'body': 2,\n",
       " 'soul': 35}"
      ]
     },
     "execution_count": 15,
     "metadata": {},
     "output_type": "execute_result"
    }
   ],
   "source": [
    "count_vectorizer.vocabulary_"
   ]
  },
  {
   "cell_type": "code",
   "execution_count": 17,
   "id": "03b01d83",
   "metadata": {},
   "outputs": [
    {
     "data": {
      "text/plain": [
       "array([[0, 0, 1, 1, 0, 0, 0, 0, 0, 0, 0, 0, 0, 0, 0, 0, 1, 0, 0, 0, 1, 0,\n",
       "        0, 0, 0, 0, 0, 0, 0, 0, 0, 0, 0, 1, 0, 1, 0, 0, 0, 0, 0, 0, 0, 0,\n",
       "        2, 0, 0]], dtype=int64)"
      ]
     },
     "execution_count": 17,
     "metadata": {},
     "output_type": "execute_result"
    }
   ],
   "source": [
    "count_vectorizer.transform(test_text).toarray()"
   ]
  }
 ],
 "metadata": {
  "kernelspec": {
   "display_name": "Python 3 (ipykernel)",
   "language": "python",
   "name": "python3"
  },
  "language_info": {
   "codemirror_mode": {
    "name": "ipython",
    "version": 3
   },
   "file_extension": ".py",
   "mimetype": "text/x-python",
   "name": "python",
   "nbconvert_exporter": "python",
   "pygments_lexer": "ipython3",
   "version": "3.9.12"
  }
 },
 "nbformat": 4,
 "nbformat_minor": 5
}
